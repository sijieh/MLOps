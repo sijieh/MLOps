{
  "cells": [
    {
      "cell_type": "code",
      "execution_count": 1,
      "metadata": {
        "colab": {
          "base_uri": "https://localhost:8080/",
          "height": 1000
        },
        "collapsed": true,
        "id": "JVTUNjgVxhG1",
        "outputId": "1661c4fa-af67-48b1-90c5-ad68f73ec8e7"
      },
      "outputs": [
        {
          "name": "stdout",
          "output_type": "stream",
          "text": [
            "Requirement already satisfied: fastapi in /opt/anaconda3/envs/dandelin-api/lib/python3.10/site-packages (0.115.14)\n",
            "Requirement already satisfied: Pillow in /opt/anaconda3/envs/dandelin-api/lib/python3.10/site-packages (11.2.1)\n",
            "Requirement already satisfied: python-multipart in /opt/anaconda3/envs/dandelin-api/lib/python3.10/site-packages (0.0.20)\n",
            "Requirement already satisfied: torch in /opt/anaconda3/envs/dandelin-api/lib/python3.10/site-packages (2.7.1)\n",
            "Requirement already satisfied: transformers in /opt/anaconda3/envs/dandelin-api/lib/python3.10/site-packages (4.53.0)\n",
            "Requirement already satisfied: uvicorn in /opt/anaconda3/envs/dandelin-api/lib/python3.10/site-packages (0.34.3)\n",
            "Requirement already satisfied: nest-asyncio in /opt/anaconda3/envs/dandelin-api/lib/python3.10/site-packages (1.6.0)\n",
            "Requirement already satisfied: pyngrok in /opt/anaconda3/envs/dandelin-api/lib/python3.10/site-packages (7.2.11)\n",
            "Requirement already satisfied: starlette<0.47.0,>=0.40.0 in /opt/anaconda3/envs/dandelin-api/lib/python3.10/site-packages (from fastapi) (0.46.2)\n",
            "Requirement already satisfied: pydantic!=1.8,!=1.8.1,!=2.0.0,!=2.0.1,!=2.1.0,<3.0.0,>=1.7.4 in /opt/anaconda3/envs/dandelin-api/lib/python3.10/site-packages (from fastapi) (2.11.7)\n",
            "Requirement already satisfied: typing-extensions>=4.8.0 in /opt/anaconda3/envs/dandelin-api/lib/python3.10/site-packages (from fastapi) (4.14.0)\n",
            "Requirement already satisfied: annotated-types>=0.6.0 in /opt/anaconda3/envs/dandelin-api/lib/python3.10/site-packages (from pydantic!=1.8,!=1.8.1,!=2.0.0,!=2.0.1,!=2.1.0,<3.0.0,>=1.7.4->fastapi) (0.7.0)\n",
            "Requirement already satisfied: pydantic-core==2.33.2 in /opt/anaconda3/envs/dandelin-api/lib/python3.10/site-packages (from pydantic!=1.8,!=1.8.1,!=2.0.0,!=2.0.1,!=2.1.0,<3.0.0,>=1.7.4->fastapi) (2.33.2)\n",
            "Requirement already satisfied: typing-inspection>=0.4.0 in /opt/anaconda3/envs/dandelin-api/lib/python3.10/site-packages (from pydantic!=1.8,!=1.8.1,!=2.0.0,!=2.0.1,!=2.1.0,<3.0.0,>=1.7.4->fastapi) (0.4.1)\n",
            "Requirement already satisfied: anyio<5,>=3.6.2 in /opt/anaconda3/envs/dandelin-api/lib/python3.10/site-packages (from starlette<0.47.0,>=0.40.0->fastapi) (4.9.0)\n",
            "Requirement already satisfied: exceptiongroup>=1.0.2 in /opt/anaconda3/envs/dandelin-api/lib/python3.10/site-packages (from anyio<5,>=3.6.2->starlette<0.47.0,>=0.40.0->fastapi) (1.3.0)\n",
            "Requirement already satisfied: idna>=2.8 in /opt/anaconda3/envs/dandelin-api/lib/python3.10/site-packages (from anyio<5,>=3.6.2->starlette<0.47.0,>=0.40.0->fastapi) (3.10)\n",
            "Requirement already satisfied: sniffio>=1.1 in /opt/anaconda3/envs/dandelin-api/lib/python3.10/site-packages (from anyio<5,>=3.6.2->starlette<0.47.0,>=0.40.0->fastapi) (1.3.1)\n",
            "Requirement already satisfied: filelock in /opt/anaconda3/envs/dandelin-api/lib/python3.10/site-packages (from torch) (3.18.0)\n",
            "Requirement already satisfied: sympy>=1.13.3 in /opt/anaconda3/envs/dandelin-api/lib/python3.10/site-packages (from torch) (1.14.0)\n",
            "Requirement already satisfied: networkx in /opt/anaconda3/envs/dandelin-api/lib/python3.10/site-packages (from torch) (3.4.2)\n",
            "Requirement already satisfied: jinja2 in /opt/anaconda3/envs/dandelin-api/lib/python3.10/site-packages (from torch) (3.1.6)\n",
            "Requirement already satisfied: fsspec in /opt/anaconda3/envs/dandelin-api/lib/python3.10/site-packages (from torch) (2025.5.1)\n",
            "Requirement already satisfied: huggingface-hub<1.0,>=0.30.0 in /opt/anaconda3/envs/dandelin-api/lib/python3.10/site-packages (from transformers) (0.33.1)\n",
            "Requirement already satisfied: numpy>=1.17 in /opt/anaconda3/envs/dandelin-api/lib/python3.10/site-packages (from transformers) (2.2.6)\n",
            "Requirement already satisfied: packaging>=20.0 in /opt/anaconda3/envs/dandelin-api/lib/python3.10/site-packages (from transformers) (25.0)\n",
            "Requirement already satisfied: pyyaml>=5.1 in /opt/anaconda3/envs/dandelin-api/lib/python3.10/site-packages (from transformers) (6.0.2)\n",
            "Requirement already satisfied: regex!=2019.12.17 in /opt/anaconda3/envs/dandelin-api/lib/python3.10/site-packages (from transformers) (2024.11.6)\n",
            "Requirement already satisfied: requests in /opt/anaconda3/envs/dandelin-api/lib/python3.10/site-packages (from transformers) (2.32.4)\n",
            "Requirement already satisfied: tokenizers<0.22,>=0.21 in /opt/anaconda3/envs/dandelin-api/lib/python3.10/site-packages (from transformers) (0.21.2)\n",
            "Requirement already satisfied: safetensors>=0.4.3 in /opt/anaconda3/envs/dandelin-api/lib/python3.10/site-packages (from transformers) (0.5.3)\n",
            "Requirement already satisfied: tqdm>=4.27 in /opt/anaconda3/envs/dandelin-api/lib/python3.10/site-packages (from transformers) (4.67.1)\n",
            "Requirement already satisfied: hf-xet<2.0.0,>=1.1.2 in /opt/anaconda3/envs/dandelin-api/lib/python3.10/site-packages (from huggingface-hub<1.0,>=0.30.0->transformers) (1.1.5)\n",
            "Requirement already satisfied: click>=7.0 in /opt/anaconda3/envs/dandelin-api/lib/python3.10/site-packages (from uvicorn) (8.2.1)\n",
            "Requirement already satisfied: h11>=0.8 in /opt/anaconda3/envs/dandelin-api/lib/python3.10/site-packages (from uvicorn) (0.16.0)\n",
            "Requirement already satisfied: mpmath<1.4,>=1.1.0 in /opt/anaconda3/envs/dandelin-api/lib/python3.10/site-packages (from sympy>=1.13.3->torch) (1.3.0)\n",
            "Requirement already satisfied: MarkupSafe>=2.0 in /opt/anaconda3/envs/dandelin-api/lib/python3.10/site-packages (from jinja2->torch) (3.0.2)\n",
            "Requirement already satisfied: charset_normalizer<4,>=2 in /opt/anaconda3/envs/dandelin-api/lib/python3.10/site-packages (from requests->transformers) (3.4.2)\n",
            "Requirement already satisfied: urllib3<3,>=1.21.1 in /opt/anaconda3/envs/dandelin-api/lib/python3.10/site-packages (from requests->transformers) (2.5.0)\n",
            "Requirement already satisfied: certifi>=2017.4.17 in /opt/anaconda3/envs/dandelin-api/lib/python3.10/site-packages (from requests->transformers) (2025.6.15)\n"
          ]
        }
      ],
      "source": [
        "!pip install fastapi Pillow python-multipart torch transformers uvicorn nest-asyncio pyngrok"
      ]
    },
    {
      "cell_type": "markdown",
      "metadata": {
        "id": "_JxHRFRAD6nt"
      },
      "source": []
    },
    {
      "cell_type": "code",
      "execution_count": 2,
      "metadata": {
        "colab": {
          "base_uri": "https://localhost:8080/"
        },
        "id": "eXIsU_xzx5zZ",
        "outputId": "40d61eca-e21b-408a-c1ae-041eb48524f3"
      },
      "outputs": [
        {
          "name": "stderr",
          "output_type": "stream",
          "text": [
            "/opt/anaconda3/envs/dandelin-api/lib/python3.10/site-packages/tqdm/auto.py:21: TqdmWarning: IProgress not found. Please update jupyter and ipywidgets. See https://ipywidgets.readthedocs.io/en/stable/user_install.html\n",
            "  from .autonotebook import tqdm as notebook_tqdm\n"
          ]
        }
      ],
      "source": [
        "from transformers import ViltProcessor, ViltForQuestionAnswering\n",
        "import requests\n",
        "from PIL import Image\n",
        "\n",
        "processor = ViltProcessor.from_pretrained(\"dandelin/vilt-b32-finetuned-vqa\")\n",
        "model = ViltForQuestionAnswering.from_pretrained(\"dandelin/vilt-b32-finetuned-vqa\")\n",
        "\n"
      ]
    },
    {
      "cell_type": "code",
      "execution_count": 3,
      "metadata": {
        "id": "wuAgb5645nns"
      },
      "outputs": [],
      "source": [
        "# prepare image + question\n",
        "url = \"http://images.cocodataset.org/val2017/000000039769.jpg\"\n",
        "image = Image.open(requests.get(url, stream=True).raw)\n",
        "\n",
        "text = \"What are the colors of the cats?\"\n",
        "\n",
        "# prepare inputs\n",
        "encoding = processor(image, text, return_tensors=\"pt\")\n"
      ]
    },
    {
      "cell_type": "code",
      "execution_count": 4,
      "metadata": {
        "colab": {
          "base_uri": "https://localhost:8080/"
        },
        "id": "f9gmjLZ05sq0",
        "outputId": "a49b5a59-1f34-4def-89da-54cf886ce164"
      },
      "outputs": [
        {
          "name": "stdout",
          "output_type": "stream",
          "text": [
            "Predicted answer: brown and black\n"
          ]
        }
      ],
      "source": [
        "\n",
        "# forward pass\n",
        "outputs = model(**encoding)\n",
        "logits = outputs.logits\n",
        "idx = logits.argmax(-1).item()\n",
        "\n",
        "\n",
        "print(\"Predicted answer:\", model.config.id2label[idx])\n",
        "\n",
        "# TODO: put above code into a function that accepts image and text as input"
      ]
    },
    {
      "cell_type": "code",
      "execution_count": 5,
      "metadata": {
        "id": "TwPHEzIy0oez"
      },
      "outputs": [],
      "source": [
        "def model_pipeline(text: str, image: Image):\n",
        "    # prepare inputs\n",
        "    encoding = processor(image, text, return_tensors=\"pt\")\n",
        "\n",
        "    # forward pass\n",
        "    outputs = model(**encoding)\n",
        "    logits = outputs.logits\n",
        "    idx = logits.argmax(-1).item()\n",
        "\n",
        "    return  model.config.id2label[idx]"
      ]
    },
    {
      "cell_type": "code",
      "execution_count": 6,
      "metadata": {
        "id": "-3gPKMN_yqMy"
      },
      "outputs": [],
      "source": [
        "from typing import Union\n",
        "from fastapi import FastAPI, UploadFile\n",
        "import io\n",
        "from PIL import Image\n",
        "\n",
        "app = FastAPI()\n",
        "\n",
        "\n",
        "@app.get(\"/\")\n",
        "def read_root():\n",
        "    return {\"Hello\": \"World\"}\n",
        "\n",
        "\n",
        "@app.post(\"/ask\")\n",
        "def ask(text: str, image: UploadFile):\n",
        "    content = image.file.read()\n",
        "\n",
        "    image = Image.open(io.BytesIO(content))\n",
        "    image = Image.open(image.file)\n",
        "\n",
        "    result = model_pipeline(text, image)\n",
        "    return {\"answer\": result}\n",
        "\n",
        "\n",
        "\n",
        "\n"
      ]
    },
    {
      "cell_type": "code",
      "execution_count": 7,
      "metadata": {
        "colab": {
          "base_uri": "https://localhost:8080/"
        },
        "id": "qoN6E-hI01hw",
        "outputId": "837ef932-0427-4df8-ee8a-7c6188beaa0c"
      },
      "outputs": [
        {
          "name": "stderr",
          "output_type": "stream",
          "text": [
            "huggingface/tokenizers: The current process just got forked, after parallelism has already been used. Disabling parallelism to avoid deadlocks...\n",
            "To disable this warning, you can either:\n",
            "\t- Avoid using `tokenizers` before the fork if possible\n",
            "\t- Explicitly set the environment variable TOKENIZERS_PARALLELISM=(true | false)\n",
            "huggingface/tokenizers: The current process just got forked, after parallelism has already been used. Disabling parallelism to avoid deadlocks...\n",
            "To disable this warning, you can either:\n",
            "\t- Avoid using `tokenizers` before the fork if possible\n",
            "\t- Explicitly set the environment variable TOKENIZERS_PARALLELISM=(true | false)\n",
            "INFO:     Started server process [4507]\n",
            "INFO:     Waiting for application startup.\n",
            "INFO:     Application startup complete.\n",
            "INFO:     Uvicorn running on http://127.0.0.1:8000 (Press CTRL+C to quit)\n"
          ]
        },
        {
          "name": "stdout",
          "output_type": "stream",
          "text": [
            "Public URL: https://eb2a-128-135-204-72.ngrok-free.app\n",
            "INFO:     128.135.204.72:0 - \"GET / HTTP/1.1\" 200 OK\n"
          ]
        },
        {
          "name": "stderr",
          "output_type": "stream",
          "text": [
            "INFO:     Shutting down\n",
            "INFO:     Waiting for application shutdown.\n",
            "INFO:     Application shutdown complete.\n",
            "INFO:     Finished server process [4507]\n"
          ]
        }
      ],
      "source": [
        "import nest_asyncio\n",
        "from pyngrok import ngrok\n",
        "import uvicorn\n",
        "\n",
        "\n",
        "ngrok.set_auth_token(\"2iu15NKJ9dV750sK2gVGciIG8rF_3JTn7dcWzN6c277V77RoU\")\n",
        "ngrok_tunnel = ngrok.connect(8000)\n",
        "print('Public URL:', ngrok_tunnel.public_url)\n",
        "nest_asyncio.apply()\n",
        "uvicorn.run(app, port=8000)"
      ]
    }
  ],
  "metadata": {
    "colab": {
      "provenance": []
    },
    "kernelspec": {
      "display_name": "dandelin-api",
      "language": "python",
      "name": "python3"
    },
    "language_info": {
      "codemirror_mode": {
        "name": "ipython",
        "version": 3
      },
      "file_extension": ".py",
      "mimetype": "text/x-python",
      "name": "python",
      "nbconvert_exporter": "python",
      "pygments_lexer": "ipython3",
      "version": "3.10.18"
    }
  },
  "nbformat": 4,
  "nbformat_minor": 0
}
